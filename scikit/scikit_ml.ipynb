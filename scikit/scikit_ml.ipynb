{
 "cells": [
  {
   "cell_type": "markdown",
   "metadata": {
    "application/vnd.databricks.v1+cell": {
     "cellMetadata": {},
     "inputWidgets": {},
     "nuid": "18dbc51c-4ec6-4840-bff2-1ee6af1f2502",
     "showTitle": false,
     "title": ""
    },
    "id": "H3yw69R_b21b"
   },
   "source": [
    "# Problem definition\n",
    "\n",
    "In order to evaluate PySpark framework, we will apply the same workflow performed by it, but with scikit-learn, using a local processor, without paralel computation.\n",
    "\n",
    "The problem is a classification, based on flights informations from North America. The dataset used here is the same applied on Spark, and is available in Databricks datasets. It contains 1,391,578 rows, 5 columns and has no null values.\n",
    "\n",
    "Our workflow will consist of feature engineering, cross-validation, hyperparameter tuning and simple versus ensemble model."
   ]
  },
  {
   "cell_type": "code",
   "execution_count": 1,
   "metadata": {
    "id": "wMXZWH9Mb211"
   },
   "outputs": [],
   "source": [
    "# Import libraries\n",
    "import pandas as pd\n",
    "import numpy as np\n",
    "import time\n",
    "\n",
    "from sklearn.model_selection import train_test_split, GridSearchCV\n",
    "from sklearn.preprocessing import StandardScaler\n",
    "from sklearn.metrics import classification_report, confusion_matrix, roc_auc_score\n",
    "from sklearn.linear_model import LogisticRegression\n",
    "from sklearn.ensemble import RandomForestClassifier\n",
    "from sklearn.pipeline import Pipeline"
   ]
  },
  {
   "cell_type": "markdown",
   "metadata": {
    "application/vnd.databricks.v1+cell": {
     "cellMetadata": {},
     "inputWidgets": {},
     "nuid": "47deb2ac-3266-44ac-8c28-5f1077e135d0",
     "showTitle": false,
     "title": ""
    },
    "id": "08upD0xGb215"
   },
   "source": [
    "# 1. Feature Engineering\n",
    "\n",
    "The main difference between scikit-learn and PySpark Machine Learning library, is that Spark requires one vector containing all features, represented in sparse format. This is not necessary here, we separate the data between X and y, with X being a dataframe with all columns as features.\n",
    "\n",
    "We still perform the feature engineering, applying the same modifications made to Spark.<br>\n",
    "We will generate the target variable y, corresponding to delayed flights.<br>\n",
    "Next we will transform the date column into readable datetime format and bucketize it into intervals of 3 hours along 24 hours.<br>\n",
    "Finally we will implement one-hot encoder to the data.\n",
    "\n",
    "## 1.1. Target variable y\n",
    "\n",
    "The Federal Aviation Administration (FAA) considers a flight to be \"delayed\" when it arrives 15 minutes or more after its scheduled time. Thus we will be creating the target variable y, accordingly to FAA definition."
   ]
  },
  {
   "cell_type": "code",
   "execution_count": 2,
   "metadata": {
    "application/vnd.databricks.v1+cell": {
     "cellMetadata": {},
     "inputWidgets": {},
     "nuid": "35138769-14a8-4701-be00-b3f9fc8fa0c0",
     "showTitle": false,
     "title": ""
    },
    "id": "WSHJ8rReb216"
   },
   "outputs": [],
   "source": [
    "data = pd.read_csv('flights.csv')"
   ]
  },
  {
   "cell_type": "code",
   "execution_count": 3,
   "metadata": {
    "application/vnd.databricks.v1+cell": {
     "cellMetadata": {},
     "inputWidgets": {},
     "nuid": "dd9b474c-6e4a-4f7f-9920-328896cad401",
     "showTitle": false,
     "title": ""
    },
    "colab": {
     "base_uri": "https://localhost:8080/"
    },
    "id": "jYs9BCC5b218",
    "outputId": "abca1883-ee47-465c-b09d-d633c1c46a06"
   },
   "outputs": [
    {
     "data": {
      "text/plain": [
       "label\n",
       "False    1077104\n",
       "True      314474\n",
       "dtype: int64"
      ]
     },
     "execution_count": 3,
     "metadata": {},
     "output_type": "execute_result"
    }
   ],
   "source": [
    "df = data.copy()\n",
    "df['label'] = np.where(df['delay'] >= 15, True, False)\n",
    "df.value_counts('label')"
   ]
  },
  {
   "cell_type": "markdown",
   "metadata": {
    "application/vnd.databricks.v1+cell": {
     "cellMetadata": {},
     "inputWidgets": {},
     "nuid": "e97ed5c8-c1e6-45aa-b682-ea623abf98b8",
     "showTitle": false,
     "title": ""
    },
    "id": "-HS9TWL8b22A"
   },
   "source": [
    "We can see that the data is unbalanced, having 3 times more non delayed flights.<br>\n",
    "However we will work with the data without changing its distribution, in order to evaluate both models performance."
   ]
  },
  {
   "cell_type": "code",
   "execution_count": 4,
   "metadata": {
    "application/vnd.databricks.v1+cell": {
     "cellMetadata": {},
     "inputWidgets": {},
     "nuid": "ef579115-9090-4cbe-93e2-8009a754d11a",
     "showTitle": false,
     "title": ""
    },
    "id": "8QjIh74mb22B"
   },
   "outputs": [],
   "source": [
    "# Transform boolean into numerical\n",
    "df['label'] = df['label'].astype(int)"
   ]
  },
  {
   "cell_type": "code",
   "execution_count": 5,
   "metadata": {
    "application/vnd.databricks.v1+cell": {
     "cellMetadata": {},
     "inputWidgets": {},
     "nuid": "18352f9f-4bd8-4d2e-a7b3-77b8977fcb0a",
     "showTitle": false,
     "title": ""
    },
    "colab": {
     "base_uri": "https://localhost:8080/",
     "height": 424
    },
    "id": "odftP13ob22C",
    "outputId": "5921512f-b131-4511-c575-22fef09ce84c"
   },
   "outputs": [
    {
     "data": {
      "text/html": [
       "\n",
       "  <div id=\"df-7ce7d216-c4b1-4969-94b8-bbc6026ba66f\">\n",
       "    <div class=\"colab-df-container\">\n",
       "      <div>\n",
       "<style scoped>\n",
       "    .dataframe tbody tr th:only-of-type {\n",
       "        vertical-align: middle;\n",
       "    }\n",
       "\n",
       "    .dataframe tbody tr th {\n",
       "        vertical-align: top;\n",
       "    }\n",
       "\n",
       "    .dataframe thead th {\n",
       "        text-align: right;\n",
       "    }\n",
       "</style>\n",
       "<table border=\"1\" class=\"dataframe\">\n",
       "  <thead>\n",
       "    <tr style=\"text-align: right;\">\n",
       "      <th></th>\n",
       "      <th>date</th>\n",
       "      <th>delay</th>\n",
       "      <th>distance</th>\n",
       "      <th>origin</th>\n",
       "      <th>destination</th>\n",
       "      <th>label</th>\n",
       "    </tr>\n",
       "  </thead>\n",
       "  <tbody>\n",
       "    <tr>\n",
       "      <th>0</th>\n",
       "      <td>1011245</td>\n",
       "      <td>6</td>\n",
       "      <td>602</td>\n",
       "      <td>ABE</td>\n",
       "      <td>ATL</td>\n",
       "      <td>0</td>\n",
       "    </tr>\n",
       "    <tr>\n",
       "      <th>1</th>\n",
       "      <td>1020600</td>\n",
       "      <td>-8</td>\n",
       "      <td>369</td>\n",
       "      <td>ABE</td>\n",
       "      <td>DTW</td>\n",
       "      <td>0</td>\n",
       "    </tr>\n",
       "    <tr>\n",
       "      <th>2</th>\n",
       "      <td>1021245</td>\n",
       "      <td>-2</td>\n",
       "      <td>602</td>\n",
       "      <td>ABE</td>\n",
       "      <td>ATL</td>\n",
       "      <td>0</td>\n",
       "    </tr>\n",
       "    <tr>\n",
       "      <th>3</th>\n",
       "      <td>1020605</td>\n",
       "      <td>-4</td>\n",
       "      <td>602</td>\n",
       "      <td>ABE</td>\n",
       "      <td>ATL</td>\n",
       "      <td>0</td>\n",
       "    </tr>\n",
       "    <tr>\n",
       "      <th>4</th>\n",
       "      <td>1031245</td>\n",
       "      <td>-4</td>\n",
       "      <td>602</td>\n",
       "      <td>ABE</td>\n",
       "      <td>ATL</td>\n",
       "      <td>0</td>\n",
       "    </tr>\n",
       "    <tr>\n",
       "      <th>...</th>\n",
       "      <td>...</td>\n",
       "      <td>...</td>\n",
       "      <td>...</td>\n",
       "      <td>...</td>\n",
       "      <td>...</td>\n",
       "      <td>...</td>\n",
       "    </tr>\n",
       "    <tr>\n",
       "      <th>1391573</th>\n",
       "      <td>3310623</td>\n",
       "      <td>-10</td>\n",
       "      <td>139</td>\n",
       "      <td>YUM</td>\n",
       "      <td>PHX</td>\n",
       "      <td>0</td>\n",
       "    </tr>\n",
       "    <tr>\n",
       "      <th>1391574</th>\n",
       "      <td>3311505</td>\n",
       "      <td>-4</td>\n",
       "      <td>139</td>\n",
       "      <td>YUM</td>\n",
       "      <td>PHX</td>\n",
       "      <td>0</td>\n",
       "    </tr>\n",
       "    <tr>\n",
       "      <th>1391575</th>\n",
       "      <td>3311846</td>\n",
       "      <td>0</td>\n",
       "      <td>206</td>\n",
       "      <td>YUM</td>\n",
       "      <td>LAX</td>\n",
       "      <td>0</td>\n",
       "    </tr>\n",
       "    <tr>\n",
       "      <th>1391576</th>\n",
       "      <td>3310500</td>\n",
       "      <td>-7</td>\n",
       "      <td>206</td>\n",
       "      <td>YUM</td>\n",
       "      <td>LAX</td>\n",
       "      <td>0</td>\n",
       "    </tr>\n",
       "    <tr>\n",
       "      <th>1391577</th>\n",
       "      <td>3311432</td>\n",
       "      <td>6</td>\n",
       "      <td>206</td>\n",
       "      <td>YUM</td>\n",
       "      <td>LAX</td>\n",
       "      <td>0</td>\n",
       "    </tr>\n",
       "  </tbody>\n",
       "</table>\n",
       "<p>1391578 rows × 6 columns</p>\n",
       "</div>\n",
       "      <button class=\"colab-df-convert\" onclick=\"convertToInteractive('df-7ce7d216-c4b1-4969-94b8-bbc6026ba66f')\"\n",
       "              title=\"Convert this dataframe to an interactive table.\"\n",
       "              style=\"display:none;\">\n",
       "        \n",
       "  <svg xmlns=\"http://www.w3.org/2000/svg\" height=\"24px\"viewBox=\"0 0 24 24\"\n",
       "       width=\"24px\">\n",
       "    <path d=\"M0 0h24v24H0V0z\" fill=\"none\"/>\n",
       "    <path d=\"M18.56 5.44l.94 2.06.94-2.06 2.06-.94-2.06-.94-.94-2.06-.94 2.06-2.06.94zm-11 1L8.5 8.5l.94-2.06 2.06-.94-2.06-.94L8.5 2.5l-.94 2.06-2.06.94zm10 10l.94 2.06.94-2.06 2.06-.94-2.06-.94-.94-2.06-.94 2.06-2.06.94z\"/><path d=\"M17.41 7.96l-1.37-1.37c-.4-.4-.92-.59-1.43-.59-.52 0-1.04.2-1.43.59L10.3 9.45l-7.72 7.72c-.78.78-.78 2.05 0 2.83L4 21.41c.39.39.9.59 1.41.59.51 0 1.02-.2 1.41-.59l7.78-7.78 2.81-2.81c.8-.78.8-2.07 0-2.86zM5.41 20L4 18.59l7.72-7.72 1.47 1.35L5.41 20z\"/>\n",
       "  </svg>\n",
       "      </button>\n",
       "      \n",
       "  <style>\n",
       "    .colab-df-container {\n",
       "      display:flex;\n",
       "      flex-wrap:wrap;\n",
       "      gap: 12px;\n",
       "    }\n",
       "\n",
       "    .colab-df-convert {\n",
       "      background-color: #E8F0FE;\n",
       "      border: none;\n",
       "      border-radius: 50%;\n",
       "      cursor: pointer;\n",
       "      display: none;\n",
       "      fill: #1967D2;\n",
       "      height: 32px;\n",
       "      padding: 0 0 0 0;\n",
       "      width: 32px;\n",
       "    }\n",
       "\n",
       "    .colab-df-convert:hover {\n",
       "      background-color: #E2EBFA;\n",
       "      box-shadow: 0px 1px 2px rgba(60, 64, 67, 0.3), 0px 1px 3px 1px rgba(60, 64, 67, 0.15);\n",
       "      fill: #174EA6;\n",
       "    }\n",
       "\n",
       "    [theme=dark] .colab-df-convert {\n",
       "      background-color: #3B4455;\n",
       "      fill: #D2E3FC;\n",
       "    }\n",
       "\n",
       "    [theme=dark] .colab-df-convert:hover {\n",
       "      background-color: #434B5C;\n",
       "      box-shadow: 0px 1px 3px 1px rgba(0, 0, 0, 0.15);\n",
       "      filter: drop-shadow(0px 1px 2px rgba(0, 0, 0, 0.3));\n",
       "      fill: #FFFFFF;\n",
       "    }\n",
       "  </style>\n",
       "\n",
       "      <script>\n",
       "        const buttonEl =\n",
       "          document.querySelector('#df-7ce7d216-c4b1-4969-94b8-bbc6026ba66f button.colab-df-convert');\n",
       "        buttonEl.style.display =\n",
       "          google.colab.kernel.accessAllowed ? 'block' : 'none';\n",
       "\n",
       "        async function convertToInteractive(key) {\n",
       "          const element = document.querySelector('#df-7ce7d216-c4b1-4969-94b8-bbc6026ba66f');\n",
       "          const dataTable =\n",
       "            await google.colab.kernel.invokeFunction('convertToInteractive',\n",
       "                                                     [key], {});\n",
       "          if (!dataTable) return;\n",
       "\n",
       "          const docLinkHtml = 'Like what you see? Visit the ' +\n",
       "            '<a target=\"_blank\" href=https://colab.research.google.com/notebooks/data_table.ipynb>data table notebook</a>'\n",
       "            + ' to learn more about interactive tables.';\n",
       "          element.innerHTML = '';\n",
       "          dataTable['output_type'] = 'display_data';\n",
       "          await google.colab.output.renderOutput(dataTable, element);\n",
       "          const docLink = document.createElement('div');\n",
       "          docLink.innerHTML = docLinkHtml;\n",
       "          element.appendChild(docLink);\n",
       "        }\n",
       "      </script>\n",
       "    </div>\n",
       "  </div>\n",
       "  "
      ],
      "text/plain": [
       "            date  delay  distance origin destination  label\n",
       "0        1011245      6       602    ABE         ATL      0\n",
       "1        1020600     -8       369    ABE         DTW      0\n",
       "2        1021245     -2       602    ABE         ATL      0\n",
       "3        1020605     -4       602    ABE         ATL      0\n",
       "4        1031245     -4       602    ABE         ATL      0\n",
       "...          ...    ...       ...    ...         ...    ...\n",
       "1391573  3310623    -10       139    YUM         PHX      0\n",
       "1391574  3311505     -4       139    YUM         PHX      0\n",
       "1391575  3311846      0       206    YUM         LAX      0\n",
       "1391576  3310500     -7       206    YUM         LAX      0\n",
       "1391577  3311432      6       206    YUM         LAX      0\n",
       "\n",
       "[1391578 rows x 6 columns]"
      ]
     },
     "execution_count": 5,
     "metadata": {},
     "output_type": "execute_result"
    }
   ],
   "source": [
    "df"
   ]
  },
  {
   "cell_type": "code",
   "execution_count": 6,
   "metadata": {
    "application/vnd.databricks.v1+cell": {
     "cellMetadata": {},
     "inputWidgets": {},
     "nuid": "be939300-b63e-4488-a061-351e119d69e2",
     "showTitle": false,
     "title": ""
    },
    "colab": {
     "base_uri": "https://localhost:8080/"
    },
    "id": "3ZSo-LC0b22D",
    "outputId": "f9b9bd4b-62f5-42d9-f058-fa341e7114d8"
   },
   "outputs": [
    {
     "name": "stdout",
     "output_type": "stream",
     "text": [
      "The data contain 1391578 records.\n"
     ]
    }
   ],
   "source": [
    "# Get number of records\n",
    "print(\"The data contain %d records.\" % df.shape[0])"
   ]
  },
  {
   "cell_type": "code",
   "execution_count": 7,
   "metadata": {
    "application/vnd.databricks.v1+cell": {
     "cellMetadata": {},
     "inputWidgets": {},
     "nuid": "5c5e0694-91cd-4094-903f-68a2463eeae7",
     "showTitle": false,
     "title": ""
    },
    "colab": {
     "base_uri": "https://localhost:8080/"
    },
    "id": "PJccizJmb22E",
    "outputId": "9cffafa7-d862-4651-969d-120f9640b482"
   },
   "outputs": [
    {
     "name": "stdout",
     "output_type": "stream",
     "text": [
      "<class 'pandas.core.frame.DataFrame'>\n",
      "RangeIndex: 1391578 entries, 0 to 1391577\n",
      "Data columns (total 6 columns):\n",
      " #   Column       Non-Null Count    Dtype \n",
      "---  ------       --------------    ----- \n",
      " 0   date         1391578 non-null  int64 \n",
      " 1   delay        1391578 non-null  int64 \n",
      " 2   distance     1391578 non-null  int64 \n",
      " 3   origin       1391578 non-null  object\n",
      " 4   destination  1391578 non-null  object\n",
      " 5   label        1391578 non-null  int64 \n",
      "dtypes: int64(4), object(2)\n",
      "memory usage: 63.7+ MB\n"
     ]
    }
   ],
   "source": [
    "# Print DataFrame structure\n",
    "df.info()"
   ]
  },
  {
   "cell_type": "markdown",
   "metadata": {
    "application/vnd.databricks.v1+cell": {
     "cellMetadata": {},
     "inputWidgets": {},
     "nuid": "e075e48e-bdbd-44d4-b8b5-d3d58d181fbc",
     "showTitle": false,
     "title": ""
    },
    "id": "DhjvN6pLb22F"
   },
   "source": [
    "## 1.2. Column departure\n",
    "\n",
    "We will first convert the time column into string, so next we can convert it into timestamp.<br>\n",
    "Then we will apply the bucketizer step for intervals of 3 hours."
   ]
  },
  {
   "cell_type": "code",
   "execution_count": 8,
   "metadata": {
    "application/vnd.databricks.v1+cell": {
     "cellMetadata": {},
     "inputWidgets": {},
     "nuid": "d9a048ae-d48a-4839-996a-8f7b50849017",
     "showTitle": false,
     "title": ""
    },
    "id": "ykOJywkbb22F"
   },
   "outputs": [],
   "source": [
    "# Transform string to timestamp\n",
    "df['departure'] = '20140' + df['date'].astype(str)\n",
    "df['departure'] = pd.to_datetime(df['departure'], format='%Y%m%d%H%M')\n",
    "\n",
    "# Get hour from departure time\n",
    "df['hour'] = df['departure'].dt.hour"
   ]
  },
  {
   "cell_type": "code",
   "execution_count": 9,
   "metadata": {
    "application/vnd.databricks.v1+cell": {
     "cellMetadata": {},
     "inputWidgets": {},
     "nuid": "b03beb80-b751-405e-b083-5a880d1a2a0f",
     "showTitle": false,
     "title": ""
    },
    "id": "uUaeMbumb22G"
   },
   "outputs": [],
   "source": [
    "# Bucketizing departure time\n",
    "ranges = [0,3,6,9,12,15,18,21,np.inf]\n",
    "group_names = ['0-3h', '3-6h', '6-9h', '9-12h', '12-15h', '15-18h', '18-21h', '21-24h']\n",
    "df['departure_bucket'] = pd.cut(df['hour'], bins=ranges, labels=group_names)\n",
    "df['departure_bucket'] = df['departure_bucket'].astype('category')"
   ]
  },
  {
   "cell_type": "markdown",
   "metadata": {
    "application/vnd.databricks.v1+cell": {
     "cellMetadata": {},
     "inputWidgets": {},
     "nuid": "02aa0306-ead8-4fee-8816-2fdbbb7eecdc",
     "showTitle": false,
     "title": ""
    },
    "id": "YfqQl7bfb22H"
   },
   "source": [
    "## 1.3. Categorical features\n",
    "\n",
    "The categorical features origin and destination contain the IATA code for airports of North America. Since there are around 300 different airports in the dataset, we will replace them by their state, reducing to a total of 65 states.\n",
    "\n",
    "In order to do this, we will need to import a second database, containing the airports informations. We will perform a join between the two tables, to get the corresponding states.\n",
    "\n",
    "Finally we will apply one-hot encoder to the states."
   ]
  },
  {
   "cell_type": "code",
   "execution_count": 10,
   "metadata": {
    "id": "PF9ilFUGb22H"
   },
   "outputs": [],
   "source": [
    "df_air = pd.read_csv('airport_codes_na.csv')"
   ]
  },
  {
   "cell_type": "code",
   "execution_count": 11,
   "metadata": {
    "application/vnd.databricks.v1+cell": {
     "cellMetadata": {},
     "inputWidgets": {},
     "nuid": "d2b81aaa-2b5b-465d-abb7-fea07e0e3095",
     "showTitle": false,
     "title": ""
    },
    "colab": {
     "base_uri": "https://localhost:8080/",
     "height": 424
    },
    "id": "6s9XcoTyb22I",
    "outputId": "9f184c9c-a793-471b-a850-661c6ff0b6d7"
   },
   "outputs": [
    {
     "data": {
      "text/html": [
       "\n",
       "  <div id=\"df-37eba34c-643d-4cf3-9558-e40c6005ec07\">\n",
       "    <div class=\"colab-df-container\">\n",
       "      <div>\n",
       "<style scoped>\n",
       "    .dataframe tbody tr th:only-of-type {\n",
       "        vertical-align: middle;\n",
       "    }\n",
       "\n",
       "    .dataframe tbody tr th {\n",
       "        vertical-align: top;\n",
       "    }\n",
       "\n",
       "    .dataframe thead th {\n",
       "        text-align: right;\n",
       "    }\n",
       "</style>\n",
       "<table border=\"1\" class=\"dataframe\">\n",
       "  <thead>\n",
       "    <tr style=\"text-align: right;\">\n",
       "      <th></th>\n",
       "      <th>City</th>\n",
       "      <th>State</th>\n",
       "      <th>Country</th>\n",
       "      <th>IATA</th>\n",
       "    </tr>\n",
       "  </thead>\n",
       "  <tbody>\n",
       "    <tr>\n",
       "      <th>0</th>\n",
       "      <td>Abbotsford</td>\n",
       "      <td>BC</td>\n",
       "      <td>Canada</td>\n",
       "      <td>YXX</td>\n",
       "    </tr>\n",
       "    <tr>\n",
       "      <th>1</th>\n",
       "      <td>Aberdeen</td>\n",
       "      <td>SD</td>\n",
       "      <td>USA</td>\n",
       "      <td>ABR</td>\n",
       "    </tr>\n",
       "    <tr>\n",
       "      <th>2</th>\n",
       "      <td>Abilene</td>\n",
       "      <td>TX</td>\n",
       "      <td>USA</td>\n",
       "      <td>ABI</td>\n",
       "    </tr>\n",
       "    <tr>\n",
       "      <th>3</th>\n",
       "      <td>Akron</td>\n",
       "      <td>OH</td>\n",
       "      <td>USA</td>\n",
       "      <td>CAK</td>\n",
       "    </tr>\n",
       "    <tr>\n",
       "      <th>4</th>\n",
       "      <td>Alamosa</td>\n",
       "      <td>CO</td>\n",
       "      <td>USA</td>\n",
       "      <td>ALS</td>\n",
       "    </tr>\n",
       "    <tr>\n",
       "      <th>...</th>\n",
       "      <td>...</td>\n",
       "      <td>...</td>\n",
       "      <td>...</td>\n",
       "      <td>...</td>\n",
       "    </tr>\n",
       "    <tr>\n",
       "      <th>521</th>\n",
       "      <td>Wrangell</td>\n",
       "      <td>AK</td>\n",
       "      <td>USA</td>\n",
       "      <td>WRG</td>\n",
       "    </tr>\n",
       "    <tr>\n",
       "      <th>522</th>\n",
       "      <td>Yakima</td>\n",
       "      <td>WA</td>\n",
       "      <td>USA</td>\n",
       "      <td>YKM</td>\n",
       "    </tr>\n",
       "    <tr>\n",
       "      <th>523</th>\n",
       "      <td>Yakutat</td>\n",
       "      <td>AK</td>\n",
       "      <td>USA</td>\n",
       "      <td>YAK</td>\n",
       "    </tr>\n",
       "    <tr>\n",
       "      <th>524</th>\n",
       "      <td>Yellowknife</td>\n",
       "      <td>NWT</td>\n",
       "      <td>Canada</td>\n",
       "      <td>YZF</td>\n",
       "    </tr>\n",
       "    <tr>\n",
       "      <th>525</th>\n",
       "      <td>Yuma</td>\n",
       "      <td>AZ</td>\n",
       "      <td>USA</td>\n",
       "      <td>YUM</td>\n",
       "    </tr>\n",
       "  </tbody>\n",
       "</table>\n",
       "<p>526 rows × 4 columns</p>\n",
       "</div>\n",
       "      <button class=\"colab-df-convert\" onclick=\"convertToInteractive('df-37eba34c-643d-4cf3-9558-e40c6005ec07')\"\n",
       "              title=\"Convert this dataframe to an interactive table.\"\n",
       "              style=\"display:none;\">\n",
       "        \n",
       "  <svg xmlns=\"http://www.w3.org/2000/svg\" height=\"24px\"viewBox=\"0 0 24 24\"\n",
       "       width=\"24px\">\n",
       "    <path d=\"M0 0h24v24H0V0z\" fill=\"none\"/>\n",
       "    <path d=\"M18.56 5.44l.94 2.06.94-2.06 2.06-.94-2.06-.94-.94-2.06-.94 2.06-2.06.94zm-11 1L8.5 8.5l.94-2.06 2.06-.94-2.06-.94L8.5 2.5l-.94 2.06-2.06.94zm10 10l.94 2.06.94-2.06 2.06-.94-2.06-.94-.94-2.06-.94 2.06-2.06.94z\"/><path d=\"M17.41 7.96l-1.37-1.37c-.4-.4-.92-.59-1.43-.59-.52 0-1.04.2-1.43.59L10.3 9.45l-7.72 7.72c-.78.78-.78 2.05 0 2.83L4 21.41c.39.39.9.59 1.41.59.51 0 1.02-.2 1.41-.59l7.78-7.78 2.81-2.81c.8-.78.8-2.07 0-2.86zM5.41 20L4 18.59l7.72-7.72 1.47 1.35L5.41 20z\"/>\n",
       "  </svg>\n",
       "      </button>\n",
       "      \n",
       "  <style>\n",
       "    .colab-df-container {\n",
       "      display:flex;\n",
       "      flex-wrap:wrap;\n",
       "      gap: 12px;\n",
       "    }\n",
       "\n",
       "    .colab-df-convert {\n",
       "      background-color: #E8F0FE;\n",
       "      border: none;\n",
       "      border-radius: 50%;\n",
       "      cursor: pointer;\n",
       "      display: none;\n",
       "      fill: #1967D2;\n",
       "      height: 32px;\n",
       "      padding: 0 0 0 0;\n",
       "      width: 32px;\n",
       "    }\n",
       "\n",
       "    .colab-df-convert:hover {\n",
       "      background-color: #E2EBFA;\n",
       "      box-shadow: 0px 1px 2px rgba(60, 64, 67, 0.3), 0px 1px 3px 1px rgba(60, 64, 67, 0.15);\n",
       "      fill: #174EA6;\n",
       "    }\n",
       "\n",
       "    [theme=dark] .colab-df-convert {\n",
       "      background-color: #3B4455;\n",
       "      fill: #D2E3FC;\n",
       "    }\n",
       "\n",
       "    [theme=dark] .colab-df-convert:hover {\n",
       "      background-color: #434B5C;\n",
       "      box-shadow: 0px 1px 3px 1px rgba(0, 0, 0, 0.15);\n",
       "      filter: drop-shadow(0px 1px 2px rgba(0, 0, 0, 0.3));\n",
       "      fill: #FFFFFF;\n",
       "    }\n",
       "  </style>\n",
       "\n",
       "      <script>\n",
       "        const buttonEl =\n",
       "          document.querySelector('#df-37eba34c-643d-4cf3-9558-e40c6005ec07 button.colab-df-convert');\n",
       "        buttonEl.style.display =\n",
       "          google.colab.kernel.accessAllowed ? 'block' : 'none';\n",
       "\n",
       "        async function convertToInteractive(key) {\n",
       "          const element = document.querySelector('#df-37eba34c-643d-4cf3-9558-e40c6005ec07');\n",
       "          const dataTable =\n",
       "            await google.colab.kernel.invokeFunction('convertToInteractive',\n",
       "                                                     [key], {});\n",
       "          if (!dataTable) return;\n",
       "\n",
       "          const docLinkHtml = 'Like what you see? Visit the ' +\n",
       "            '<a target=\"_blank\" href=https://colab.research.google.com/notebooks/data_table.ipynb>data table notebook</a>'\n",
       "            + ' to learn more about interactive tables.';\n",
       "          element.innerHTML = '';\n",
       "          dataTable['output_type'] = 'display_data';\n",
       "          await google.colab.output.renderOutput(dataTable, element);\n",
       "          const docLink = document.createElement('div');\n",
       "          docLink.innerHTML = docLinkHtml;\n",
       "          element.appendChild(docLink);\n",
       "        }\n",
       "      </script>\n",
       "    </div>\n",
       "  </div>\n",
       "  "
      ],
      "text/plain": [
       "            City State Country IATA\n",
       "0     Abbotsford    BC  Canada  YXX\n",
       "1       Aberdeen    SD     USA  ABR\n",
       "2        Abilene    TX     USA  ABI\n",
       "3          Akron    OH     USA  CAK\n",
       "4        Alamosa    CO     USA  ALS\n",
       "..           ...   ...     ...  ...\n",
       "521     Wrangell    AK     USA  WRG\n",
       "522       Yakima    WA     USA  YKM\n",
       "523      Yakutat    AK     USA  YAK\n",
       "524  Yellowknife   NWT  Canada  YZF\n",
       "525         Yuma    AZ     USA  YUM\n",
       "\n",
       "[526 rows x 4 columns]"
      ]
     },
     "execution_count": 11,
     "metadata": {},
     "output_type": "execute_result"
    }
   ],
   "source": [
    "df_air"
   ]
  },
  {
   "cell_type": "code",
   "execution_count": 12,
   "metadata": {
    "id": "sTVjMSYjb22I"
   },
   "outputs": [],
   "source": [
    "# Join on origin\n",
    "df_origin = df_air[['IATA', 'State']]\n",
    "df_origin.columns = ['origin', 'origin_state']\n",
    "df = df.merge(df_origin, on='origin')"
   ]
  },
  {
   "cell_type": "code",
   "execution_count": 13,
   "metadata": {
    "id": "Mtvrnux1b22J"
   },
   "outputs": [],
   "source": [
    "# Join on destination\n",
    "df_dest = df_air[['IATA', 'State']]\n",
    "df_dest.columns = ['destination', 'dest_state']\n",
    "df = df.merge(df_dest, on='destination')"
   ]
  },
  {
   "cell_type": "code",
   "execution_count": 14,
   "metadata": {
    "id": "lTJtrHZUb22M"
   },
   "outputs": [],
   "source": [
    "# Select only feature columns\n",
    "df = df[['distance', 'label', 'departure_bucket', 'origin_state', 'dest_state']]"
   ]
  },
  {
   "cell_type": "code",
   "execution_count": 15,
   "metadata": {
    "id": "nRVd-XdZb22M"
   },
   "outputs": [],
   "source": [
    "# One-hot encoder\n",
    "df = pd.get_dummies(df)"
   ]
  },
  {
   "cell_type": "markdown",
   "metadata": {
    "application/vnd.databricks.v1+cell": {
     "cellMetadata": {},
     "inputWidgets": {},
     "nuid": "8a13c412-a616-4ff9-989c-7980800e9ff8",
     "showTitle": false,
     "title": ""
    },
    "id": "F65xVdH8b22N"
   },
   "source": [
    "## 1.4. Train-test split\n",
    "\n",
    "Before applying any fitting or prediction, we will split the data into training and test sets. This will ensure that data leakage does not occur during all process."
   ]
  },
  {
   "cell_type": "code",
   "execution_count": 16,
   "metadata": {
    "application/vnd.databricks.v1+cell": {
     "cellMetadata": {},
     "inputWidgets": {},
     "nuid": "39f0f636-900c-40dc-b435-9fee84b98427",
     "showTitle": false,
     "title": ""
    },
    "id": "p-irQVoRb22O"
   },
   "outputs": [],
   "source": [
    "# Split the data\n",
    "X = df.drop('label', axis=1)\n",
    "y = df['label']\n",
    "X_train, X_test, y_train, y_test = train_test_split(X, y, test_size=.3)"
   ]
  },
  {
   "cell_type": "markdown",
   "metadata": {
    "id": "4KVIQfeMb22P"
   },
   "source": [
    "# 2. Models\n",
    "\n",
    "We will apply the same two classification models applied to Spark: logistic regression and ensemble Random Forest.<br>\n",
    "Being more simple, Logistic regression will be used as baseline model.<br>\n",
    "We will perform hyperparameter tuning on them, with grid-search cross-validation and evaluate the best model on the test set.<br>\n",
    "We will apply two evaluations for both models: ROC-AUC and Confusion Matrix.<br>\n",
    "The difference here to Spark is that we will declare first the models and their grid search, in order to add to the pipeline.\n",
    "\n",
    "## 2.1. Evaluators\n",
    "\n",
    "We don't need to declare both evaluators roc_auc and confusion matrix because they are already implemented as functions by scikit-learn.\n",
    "\n",
    "## 2.2. Logistic Regression\n",
    "\n",
    "The Logistic Regression will be our baseline model, for comparison.<br>\n",
    "For its hyperparameters we will search for 'C' wich is the inverse of regularization strength λ and 'penalty' which is the norm of Regularization α (L1/L2)."
   ]
  },
  {
   "cell_type": "code",
   "execution_count": 17,
   "metadata": {
    "id": "srW0VkDlb22T"
   },
   "outputs": [],
   "source": [
    "# Create Logistic Regression model\n",
    "lr = LogisticRegression()"
   ]
  },
  {
   "cell_type": "code",
   "execution_count": 18,
   "metadata": {
    "id": "kzfxCIpAb22T"
   },
   "outputs": [],
   "source": [
    "# Make a grid for grid-search\n",
    "params_lr = {'lr__C': [1, .1, .01],\n",
    "             'lr__penalty': ['l2', 'none']}"
   ]
  },
  {
   "cell_type": "markdown",
   "metadata": {
    "id": "DAp1yCz8b22T"
   },
   "source": [
    "## 2.3. Ensemble Random Forest\n",
    "\n",
    "We will declare a Random Forest model and search for its best hyperparameters, through grid-search cross-validation.<br>\n",
    "For its hyperparameters we will search for 'max_features' wich is the number of features to consider and 'max_depth' which is the maximum depth of the tree."
   ]
  },
  {
   "cell_type": "code",
   "execution_count": 19,
   "metadata": {
    "id": "eEes_xjzb22U"
   },
   "outputs": [],
   "source": [
    "# Create Random Forest model\n",
    "rf = RandomForestClassifier()"
   ]
  },
  {
   "cell_type": "code",
   "execution_count": 20,
   "metadata": {
    "id": "dn-vRlolb22U"
   },
   "outputs": [],
   "source": [
    "# Make a grid for grid-search\n",
    "params_rf = {'rf__max_features': [None, 0.3, 'sqrt', 'log2'],\n",
    "             'rf__max_depth': [2, 5, 10]}"
   ]
  },
  {
   "cell_type": "markdown",
   "metadata": {
    "id": "67EoMyCbb22X"
   },
   "source": [
    "# 3. Logistic Regression Pipeline\n",
    "\n",
    "Now we will define a pipeline to run normalization on the data and grid-search cross-validation for Logistic Regression.\n",
    "\n",
    "## 3.1. Scikit Pipeline"
   ]
  },
  {
   "cell_type": "code",
   "execution_count": 21,
   "metadata": {
    "id": "i_0U3e6wb22Y"
   },
   "outputs": [],
   "source": [
    "# Create the Pipeline\n",
    "steps_lr = [('scaler', StandardScaler()),\n",
    "            ('lr', lr)]\n",
    "pipeline_lr = Pipeline(steps_lr)"
   ]
  },
  {
   "cell_type": "markdown",
   "metadata": {
    "id": "espbmmc4b22Y"
   },
   "source": [
    "## 3.2. Hyperparameter Tuning\n",
    "\n",
    "Now through grid-search cross-validation, we may search for the best hyperparameters, on the training set, and use the best model to predict the test set, in order to evaluate the results."
   ]
  },
  {
   "cell_type": "code",
   "execution_count": 22,
   "metadata": {
    "id": "Vi5WIKTpb22Z"
   },
   "outputs": [],
   "source": [
    "# Create the CrossValidator\n",
    "cv_lr = GridSearchCV(estimator=pipeline_lr,\n",
    "                     param_grid=params_lr,\n",
    "                     cv=3,\n",
    "                     scoring='roc_auc',\n",
    "                     verbose=1,\n",
    "                     n_jobs=-1)"
   ]
  },
  {
   "cell_type": "code",
   "execution_count": 23,
   "metadata": {
    "colab": {
     "base_uri": "https://localhost:8080/"
    },
    "id": "cWmiOiXAb22Z",
    "outputId": "39076afa-186a-4097-f471-265d89d045ef"
   },
   "outputs": [
    {
     "name": "stdout",
     "output_type": "stream",
     "text": [
      "Fitting 3 folds for each of 6 candidates, totalling 18 fits\n"
     ]
    },
    {
     "name": "stderr",
     "output_type": "stream",
     "text": [
      "/usr/local/lib/python3.8/dist-packages/joblib/externals/loky/process_executor.py:700: UserWarning: A worker stopped while some jobs were given to the executor. This can be caused by a too short worker timeout or by a memory leak.\n",
      "  warnings.warn(\n"
     ]
    },
    {
     "name": "stdout",
     "output_type": "stream",
     "text": [
      "Cross-validation training with Logistic Regression took around 1.98 min.\n"
     ]
    }
   ],
   "source": [
    "# Train the model and time it\n",
    "t_start = time.time()\n",
    "cv_lr.fit(X_train, y_train)\n",
    "t_total = time.time() - t_start\n",
    "print('Cross-validation training with Logistic Regression took around {:.2f} min.'.format(t_total/60))"
   ]
  },
  {
   "cell_type": "markdown",
   "metadata": {
    "id": "ypnqJFevb22a"
   },
   "source": [
    "## 3.3. Cross-Validation Best Model"
   ]
  },
  {
   "cell_type": "code",
   "execution_count": 24,
   "metadata": {
    "colab": {
     "base_uri": "https://localhost:8080/"
    },
    "id": "qUQAh-q4b22a",
    "outputId": "a6de9a80-46ab-471f-ba02-5d7a726558dd"
   },
   "outputs": [
    {
     "name": "stdout",
     "output_type": "stream",
     "text": [
      "Pipeline(steps=[('scaler', StandardScaler()), ('lr', LogisticRegression(C=1))])\n"
     ]
    }
   ],
   "source": [
    "# Extract the best model\n",
    "best_lr = cv_lr.best_estimator_\n",
    "\n",
    "# Print best_lr\n",
    "print(best_lr)"
   ]
  },
  {
   "cell_type": "code",
   "execution_count": 25,
   "metadata": {
    "colab": {
     "base_uri": "https://localhost:8080/"
    },
    "id": "AjciMlgCb22b",
    "outputId": "b65a28f1-480c-40e9-f7dd-d1c439aca964"
   },
   "outputs": [
    {
     "data": {
      "text/plain": [
       "{'lr__C': 1, 'lr__penalty': 'l2'}"
      ]
     },
     "execution_count": 25,
     "metadata": {},
     "output_type": "execute_result"
    }
   ],
   "source": [
    "cv_lr.best_params_"
   ]
  },
  {
   "cell_type": "markdown",
   "metadata": {
    "id": "sUWewpSXb22b"
   },
   "source": [
    "## 3.4. Model Evaluation"
   ]
  },
  {
   "cell_type": "code",
   "execution_count": 26,
   "metadata": {
    "id": "_9jngLv7b22c"
   },
   "outputs": [],
   "source": [
    "predictions_lr = best_lr.predict(X_test)\n",
    "pred_lr_proba = best_lr.predict_proba(X_test)"
   ]
  },
  {
   "cell_type": "code",
   "execution_count": 36,
   "metadata": {
    "colab": {
     "base_uri": "https://localhost:8080/"
    },
    "id": "9nFGDnG0b22c",
    "outputId": "7d3ded94-f1ff-4b96-a30f-d36e547a36ce"
   },
   "outputs": [
    {
     "name": "stdout",
     "output_type": "stream",
     "text": [
      "roc_auc score:  0.6511188909119557\n",
      "confusion matrix:\n",
      " [[315988     42]\n",
      " [ 92253     60]]\n",
      "              precision    recall  f1-score   support\n",
      "\n",
      "           0       0.77      1.00      0.87    316030\n",
      "           1       0.59      0.00      0.00     92313\n",
      "\n",
      "    accuracy                           0.77    408343\n",
      "   macro avg       0.68      0.50      0.44    408343\n",
      "weighted avg       0.73      0.77      0.68    408343\n",
      "\n"
     ]
    }
   ],
   "source": [
    "# Evaluate the predictions\n",
    "print('roc_auc score: ', roc_auc_score(y_test.values, pred_lr_proba[:,1]))\n",
    "\n",
    "print('confusion matrix:\\n', confusion_matrix(y_test.values, predictions_lr))\n",
    "print(classification_report(y_test.values, predictions_lr))"
   ]
  },
  {
   "cell_type": "markdown",
   "metadata": {
    "id": "Rzqw_3nib22d"
   },
   "source": [
    "# 4. Ensemble Random Forest Pipeline\n",
    "\n",
    "Next we will define a pipeline to run normalization on the data and grid-search cross-validation for Random Forest.\n",
    "\n",
    "## 4.1. Scikit Pipeline"
   ]
  },
  {
   "cell_type": "code",
   "execution_count": 28,
   "metadata": {
    "id": "0lIdkDG9b22d"
   },
   "outputs": [],
   "source": [
    "# Create the Pipeline\n",
    "steps_rf = [('scaler', StandardScaler()),\n",
    "            ('rf', rf)]\n",
    "pipeline_rf = Pipeline(steps_rf)"
   ]
  },
  {
   "cell_type": "markdown",
   "metadata": {
    "id": "vtvQPQU2b22d"
   },
   "source": [
    "## 4.2. Hyperparameter Tuning\n",
    "\n",
    "Now through grid-search cross-validation, we may search for the best hyperparameters, on the training set, and use the best model to predict the test set, in order to evaluate the results."
   ]
  },
  {
   "cell_type": "code",
   "execution_count": 29,
   "metadata": {
    "id": "PshOodSeb22e"
   },
   "outputs": [],
   "source": [
    "# Create the CrossValidator\n",
    "cv_rf = GridSearchCV(estimator=pipeline_rf,\n",
    "                     param_grid=params_rf,\n",
    "                     cv=3,\n",
    "                     scoring='roc_auc',\n",
    "                     verbose=1,\n",
    "                     n_jobs=-1)"
   ]
  },
  {
   "cell_type": "code",
   "execution_count": 30,
   "metadata": {
    "colab": {
     "base_uri": "https://localhost:8080/"
    },
    "id": "3ZWy9oU6b22e",
    "outputId": "7a8bd07b-d77e-4f2b-ccf0-0ade26ba0798"
   },
   "outputs": [
    {
     "name": "stdout",
     "output_type": "stream",
     "text": [
      "Fitting 3 folds for each of 12 candidates, totalling 36 fits\n",
      "Cross-validation training with Random Forest took around 44.62 min.\n"
     ]
    }
   ],
   "source": [
    "# Train the model and time it\n",
    "t_start = time.time()\n",
    "cv_rf.fit(X_train, y_train)\n",
    "t_total = time.time() - t_start\n",
    "print('Cross-validation training with Random Forest took around {:.2f} min.'.format(t_total/60))"
   ]
  },
  {
   "cell_type": "markdown",
   "metadata": {
    "id": "-y98c-Lqb22f"
   },
   "source": [
    "## 4.3. Cross-Validation Best Model"
   ]
  },
  {
   "cell_type": "code",
   "execution_count": 31,
   "metadata": {
    "colab": {
     "base_uri": "https://localhost:8080/"
    },
    "id": "zK0hLOzDb22f",
    "outputId": "cf519869-58e8-4c1a-e097-de97d9cc17df"
   },
   "outputs": [
    {
     "name": "stdout",
     "output_type": "stream",
     "text": [
      "Pipeline(steps=[('scaler', StandardScaler()),\n",
      "                ('rf',\n",
      "                 RandomForestClassifier(max_depth=10, max_features='log2'))])\n"
     ]
    }
   ],
   "source": [
    "# Extract the best model\n",
    "best_rf = cv_rf.best_estimator_\n",
    "\n",
    "# Print best_rf\n",
    "print(best_rf)"
   ]
  },
  {
   "cell_type": "code",
   "execution_count": 32,
   "metadata": {
    "colab": {
     "base_uri": "https://localhost:8080/"
    },
    "id": "oIlMTyLgb22f",
    "outputId": "38e1e2d2-9722-4142-9298-9e5c2ba82065"
   },
   "outputs": [
    {
     "data": {
      "text/plain": [
       "{'rf__max_depth': 10, 'rf__max_features': 'log2'}"
      ]
     },
     "execution_count": 32,
     "metadata": {},
     "output_type": "execute_result"
    }
   ],
   "source": [
    "cv_rf.best_params_"
   ]
  },
  {
   "cell_type": "markdown",
   "metadata": {
    "id": "Bo7LTyMXb22g"
   },
   "source": [
    "## 4.4. Model Evaluation"
   ]
  },
  {
   "cell_type": "code",
   "execution_count": 33,
   "metadata": {
    "id": "1xswBcD9b22g"
   },
   "outputs": [],
   "source": [
    "predictions_rf = best_rf.predict(X_test)\n",
    "pred_rf_proba = best_rf.predict_proba(X_test)"
   ]
  },
  {
   "cell_type": "code",
   "execution_count": 37,
   "metadata": {
    "colab": {
     "base_uri": "https://localhost:8080/"
    },
    "id": "b2vq4zoKb22g",
    "outputId": "cf918dc0-30de-4d7b-94e9-947d4213851a"
   },
   "outputs": [
    {
     "name": "stdout",
     "output_type": "stream",
     "text": [
      "roc_auc score:  0.6541306973710934\n",
      "confusion matrix:\n",
      " [[316030      0]\n",
      " [ 92313      0]]\n"
     ]
    },
    {
     "name": "stderr",
     "output_type": "stream",
     "text": [
      "/usr/local/lib/python3.8/dist-packages/sklearn/metrics/_classification.py:1318: UndefinedMetricWarning: Precision and F-score are ill-defined and being set to 0.0 in labels with no predicted samples. Use `zero_division` parameter to control this behavior.\n",
      "  _warn_prf(average, modifier, msg_start, len(result))\n"
     ]
    },
    {
     "name": "stdout",
     "output_type": "stream",
     "text": [
      "              precision    recall  f1-score   support\n",
      "\n",
      "           0       0.77      1.00      0.87    316030\n",
      "           1       0.00      0.00      0.00     92313\n",
      "\n",
      "    accuracy                           0.77    408343\n",
      "   macro avg       0.39      0.50      0.44    408343\n",
      "weighted avg       0.60      0.77      0.68    408343\n",
      "\n"
     ]
    },
    {
     "name": "stderr",
     "output_type": "stream",
     "text": [
      "/usr/local/lib/python3.8/dist-packages/sklearn/metrics/_classification.py:1318: UndefinedMetricWarning: Precision and F-score are ill-defined and being set to 0.0 in labels with no predicted samples. Use `zero_division` parameter to control this behavior.\n",
      "  _warn_prf(average, modifier, msg_start, len(result))\n",
      "/usr/local/lib/python3.8/dist-packages/sklearn/metrics/_classification.py:1318: UndefinedMetricWarning: Precision and F-score are ill-defined and being set to 0.0 in labels with no predicted samples. Use `zero_division` parameter to control this behavior.\n",
      "  _warn_prf(average, modifier, msg_start, len(result))\n"
     ]
    }
   ],
   "source": [
    "# Evaluate the predictions\n",
    "print('roc_auc score: ', roc_auc_score(y_test.values, pred_rf_proba[:,1]))\n",
    "\n",
    "print('confusion matrix:\\n', confusion_matrix(y_test.values, predictions_rf))\n",
    "print(classification_report(y_test.values, predictions_rf))"
   ]
  },
  {
   "cell_type": "markdown",
   "metadata": {
    "application/vnd.databricks.v1+cell": {
     "cellMetadata": {},
     "inputWidgets": {},
     "nuid": "1e301e2d-c31e-4c6a-8a84-4b68ff394594",
     "showTitle": false,
     "title": ""
    },
    "id": "NFfHvnJsb22h"
   },
   "source": [
    "# 5. Conclusions\n",
    "\n",
    "Spark is optimized for big data handling. Therefore, it may take more time to deal with small data.<br>\n",
    "Comparing scikit-learn and Spark performance, we see that Logistic Regression grid-search was faster in scikit-learn, with around 2 min.<br>\n",
    "Random Forest, however, is impacted by the curse of dimensionality. Here we can see that Spark took around 22 min to perform the grid-search while scikit-learn took around 45 min.<br>\n",
    "While our data had around 1.4 million rows (30 MB), it is still very small compared to big data, where Spark really shine.\n",
    "\n",
    "Analyzing both models evaluation, we can see that both models performed poorly, heavily impacted by data unbalance. Here Random Forest actually turned out the worst model, because it predicted 0 (not delay) for all cases, still achieving a high accuracy and roc auc score.\n",
    "\n",
    "|Metric|Logistic Regression|Random Forest|\n",
    "|--|--|--|\n",
    "|ROC AUC|0.6511|0.6541|\n",
    "|Accuracy|0.77|0.77|\n",
    "|Precision|0.59|0.00|\n",
    "|Recall|0.00|0.00|\n",
    "|F1-Score|0.00|0.00|\n",
    "\n",
    "Oversampling or undersampling and other metrics would be proper steps, but we tried to reproduce only similar steps between both frameworks, in order to evaluate both performance.\n",
    "\n",
    "We conclude here that Spark framework is more recommended for big data. Its parallel processing guarantees less processing time when the data escalates. Also both frameworks may perform differently depending on configurations setup."
   ]
  },
  {
   "cell_type": "markdown",
   "metadata": {
    "application/vnd.databricks.v1+cell": {
     "cellMetadata": {},
     "inputWidgets": {},
     "nuid": "b2e07084-4f0d-45de-84d3-6cd0b7d29bab",
     "showTitle": false,
     "title": ""
    },
    "id": "Dh97u9Lkb22i"
   },
   "source": []
  }
 ],
 "metadata": {
  "accelerator": "GPU",
  "application/vnd.databricks.v1+notebook": {
   "dashboards": [],
   "language": "python",
   "notebookMetadata": {
    "mostRecentlyExecutedCommandWithImplicitDF": {
     "commandId": -1,
     "dataframes": [
      "_sqldf"
     ]
    },
    "pythonIndentUnit": 2
   },
   "notebookName": "pyspark_ml",
   "notebookOrigID": 68202399794172,
   "widgets": {}
  },
  "colab": {
   "provenance": []
  },
  "gpuClass": "standard",
  "kernelspec": {
   "display_name": "Python 3 (ipykernel)",
   "language": "python",
   "name": "python3"
  },
  "language_info": {
   "codemirror_mode": {
    "name": "ipython",
    "version": 3
   },
   "file_extension": ".py",
   "mimetype": "text/x-python",
   "name": "python",
   "nbconvert_exporter": "python",
   "pygments_lexer": "ipython3",
   "version": "3.8.10"
  }
 },
 "nbformat": 4,
 "nbformat_minor": 1
}
